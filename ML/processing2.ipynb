{
 "cells": [
  {
   "cell_type": "markdown",
   "metadata": {},
   "source": [
    "# Imports"
   ]
  },
  {
   "cell_type": "code",
   "execution_count": 2,
   "metadata": {},
   "outputs": [],
   "source": [
    "import pandas as pd\n",
    "import numpy as np\n",
    "import warnings\n",
    "import matplotlib.pyplot as plt\n",
    "import soundfile as sf\n",
    "from scipy.fft import rfft, rfftfreq\n",
    "from sklearn.metrics import accuracy_score\n",
    "import librosa\n",
    "import resampy\n",
    "import librosa.display\n",
    "import IPython.display as ipd\n",
    "import os\n",
    "from xgboost import XGBClassifier\n",
    "from sklearn.preprocessing import LabelEncoder\n",
    "from sklearn.svm import SVC\n",
    "from sklearn.model_selection import train_test_split\n",
    "from sklearn.metrics import classification_report\n",
    "import pickle\n",
    "from sklearn.tree import DecisionTreeClassifier\n",
    "from sklearn.preprocessing import StandardScaler\n",
    "from sklearn.mixture import GaussianMixture\n",
    "from sklearn.ensemble import RandomForestClassifier\n",
    "from sklearn.preprocessing import StandardScaler\n",
    "from sklearn.neighbors import KNeighborsClassifier\n",
    "from pydub import AudioSegment\n",
    "import os\n",
    "warnings.filterwarnings('ignore')\n"
   ]
  },
  {
   "cell_type": "markdown",
   "metadata": {},
   "source": [
    "# Model"
   ]
  },
  {
   "cell_type": "markdown",
   "metadata": {},
   "source": [
    "### define features extraction function"
   ]
  },
  {
   "cell_type": "code",
   "execution_count": 3,
   "metadata": {},
   "outputs": [],
   "source": [
    "def mfcc_feature_extractor(audio,sampleRate):\n",
    "    mfccsFeatures = librosa.feature.mfcc(y=audio, sr=sampleRate, n_mfcc=40)\n",
    "    mfccsScaledFeatures = np.mean(mfccsFeatures.T,axis=0)\n",
    "    \n",
    "    return mfccsScaledFeatures"
   ]
  },
  {
   "cell_type": "code",
   "execution_count": 4,
   "metadata": {},
   "outputs": [],
   "source": [
    "def contrast_feature_extractor(audio,sampleRate):\n",
    "    stft = np.abs(librosa.stft(audio))\n",
    "    contrast = librosa.feature.spectral_contrast(S=stft, sr=sampleRate) \n",
    "    contrastScaled = np.mean(contrast.T,axis=0)\n",
    "    \n",
    "    return contrastScaled"
   ]
  },
  {
   "cell_type": "code",
   "execution_count": 5,
   "metadata": {},
   "outputs": [],
   "source": [
    "def tonnetz_feature_extractor(audio,sampleRate):\n",
    "    tonnetz = librosa.feature.tonnetz(y=librosa.effects.harmonic(audio), sr=sampleRate)\n",
    "    tonnetzScaled = np.mean(tonnetz.T,axis=0)\n",
    "    \n",
    "    return tonnetzScaled"
   ]
  },
  {
   "cell_type": "code",
   "execution_count": 6,
   "metadata": {},
   "outputs": [],
   "source": [
    "def centroid_feature_extractor(audio,sampleRate):\n",
    "    centroid = librosa.feature.spectral_centroid(y=audio,sr=sampleRate) \n",
    "    centroidScaled = np.mean(centroid.T,axis=0)\n",
    "    \n",
    "    return centroidScaled"
   ]
  },
  {
   "cell_type": "code",
   "execution_count": 7,
   "metadata": {},
   "outputs": [],
   "source": [
    "def chroma_feature_extractor(audio,sampleRate):\n",
    "    stft = np.abs(librosa.stft(audio))\n",
    "    chroma = librosa.feature.chroma_stft(S=stft,sr=sampleRate)\n",
    "    chromaScaled = np.mean(chroma.T,axis=0)\n",
    "    \n",
    "    return chromaScaled"
   ]
  },
  {
   "cell_type": "code",
   "execution_count": 8,
   "metadata": {},
   "outputs": [],
   "source": [
    "def features_extractor(file):\n",
    "    if file.lower().endswith(\".m4a\"):\n",
    "        audio = AudioSegment.from_file(file, format=\"m4a\")\n",
    "        file_name, _ = os.path.splitext(os.path.basename(file))\n",
    "        output_path = os.path.join(os.path.dirname(file), file_name + \".wav\")\n",
    "        audio.export(output_path, format=\"wav\")\n",
    "        os.remove(file)\n",
    "        file = output_path\n",
    "\n",
    "    features = []\n",
    "    audio, sample_rate = librosa.load(file, res_type='kaiser_fast') \n",
    "    mfcc = mfcc_feature_extractor(audio, sample_rate)\n",
    "    contrast = contrast_feature_extractor(audio, sample_rate)\n",
    "    tonnetz = tonnetz_feature_extractor(audio, sample_rate)\n",
    "    chroma = chroma_feature_extractor(audio, sample_rate)\n",
    "\n",
    "    # Concatenate individual feature arrays\n",
    "    concatenated_features = np.concatenate((mfcc, contrast, tonnetz, chroma), axis=0)\n",
    "    features.append(concatenated_features)\n",
    "\n",
    "    return features"
   ]
  },
  {
   "cell_type": "markdown",
   "metadata": {},
   "source": [
    "### define add features function"
   ]
  },
  {
   "cell_type": "code",
   "execution_count": 9,
   "metadata": {},
   "outputs": [],
   "source": [
    "def add_features(extractedFeatures, dirPath, label):\n",
    "    for file in os.listdir(dirPath):\n",
    "        filePath = os.path.join(dirPath, file)\n",
    "\n",
    "        if filePath.lower().endswith(\".m4a\"):\n",
    "            audio = AudioSegment.from_file(filePath, format=\"m4a\")\n",
    "            file_name, _ = os.path.splitext(os.path.basename(filePath))\n",
    "            output_path = os.path.join(os.path.dirname(filePath), file_name + \".wav\")\n",
    "            audio.export(output_path, format=\"wav\")\n",
    "            os.remove(filePath)\n",
    "            filePath = output_path\n",
    "\n",
    "        audio, sampleRate = librosa.load(filePath, res_type='kaiser_fast') \n",
    "        mfcc = mfcc_feature_extractor(audio, sampleRate)\n",
    "        contrast = contrast_feature_extractor(audio, sampleRate)\n",
    "        tonnetz = tonnetz_feature_extractor(audio, sampleRate)\n",
    "        chroma = chroma_feature_extractor(audio, sampleRate)\n",
    "\n",
    "        extractedFeatures.append([mfcc, contrast, tonnetz, chroma, label])"
   ]
  },
  {
   "cell_type": "markdown",
   "metadata": {},
   "source": [
    "### creating dictionary with dirPath and label"
   ]
  },
  {
   "cell_type": "code",
   "execution_count": 10,
   "metadata": {},
   "outputs": [],
   "source": [
    "dict1 = {\n",
    "    \"ibrahim\": [\n",
    "        \"C:/Users/omara/OneDrive/Desktop/Voice Signal Authentication/ML/new audios/open/ibrahim\",\n",
    "        \"C:/Users/omara/OneDrive/Desktop/Voice Signal Authentication/ML/new audios/unlock/ibrahim\",\n",
    "        \"C:/Users/omara/OneDrive/Desktop/Voice Signal Authentication/ML/new audios/grant/ibrahim\",\n",
    "        \"C:/Users/omara/OneDrive/Desktop/Voice Signal Authentication/ML/new audios/other sentences/ibrahim\",\n",
    "    ],\n",
    "    \"ahmeda\": [\n",
    "        \"C:/Users/omara/OneDrive/Desktop/Voice Signal Authentication/ML/new audios/open/ahmeda\",\n",
    "        \"C:/Users/omara/OneDrive/Desktop/Voice Signal Authentication/ML/new audios/unlock/ahmeda\",\n",
    "        \"C:/Users/omara/OneDrive/Desktop/Voice Signal Authentication/ML/new audios/grant/ahmeda\",\n",
    "        \"C:/Users/omara/OneDrive/Desktop/Voice Signal Authentication/ML/new audios/other sentences/ahmeda\",\n",
    "    ],\n",
    "    \"omar\": [\n",
    "        \"C:/Users/omara/OneDrive/Desktop/Voice Signal Authentication/ML/new audios/open/omar\",\n",
    "        \"C:/Users/omara/OneDrive/Desktop/Voice Signal Authentication/ML/new audios/unlock/omar\",\n",
    "        \"C:/Users/omara/OneDrive/Desktop/Voice Signal Authentication/ML/new audios/grant/omar\",\n",
    "        \"C:/Users/omara/OneDrive/Desktop/Voice Signal Authentication/ML/new audios/other sentences/omar\",\n",
    "    ],\n",
    "    \"hazem\": [\n",
    "        \"C:/Users/omara/OneDrive/Desktop/Voice Signal Authentication/ML/new audios/open/hazem\",\n",
    "        \"C:/Users/omara/OneDrive/Desktop/Voice Signal Authentication/ML/new audios/unlock/hazem\",\n",
    "        \"C:/Users/omara/OneDrive/Desktop/Voice Signal Authentication/ML/new audios/grant/hazem\",\n",
    "        \"C:/Users/omara/OneDrive/Desktop/Voice Signal Authentication/ML/new audios/other sentences/hazem\",\n",
    "    ],\n",
    "    \"ahmedk\": [\n",
    "        \"C:/Users/omara/OneDrive/Desktop/Voice Signal Authentication/ML/new audios/open/ahmedk\",\n",
    "        \"C:/Users/omara/OneDrive/Desktop/Voice Signal Authentication/ML/new audios/unlock/ahmedk\",\n",
    "        \"C:/Users/omara/OneDrive/Desktop/Voice Signal Authentication/ML/new audios/grant/ahmedk\",\n",
    "        \"C:/Users/omara/OneDrive/Desktop/Voice Signal Authentication/ML/new audios/other sentences/ahmedk\",\n",
    "    ],\n",
    "    \"hassan\": [\n",
    "        \"C:/Users/omara/OneDrive/Desktop/Voice Signal Authentication/ML/new audios/open/hassan\",\n",
    "        \"C:/Users/omara/OneDrive/Desktop/Voice Signal Authentication/ML/new audios/unlock/hassan\",\n",
    "        \"C:/Users/omara/OneDrive/Desktop/Voice Signal Authentication/ML/new audios/grant/hassan\",\n",
    "        \"C:/Users/omara/OneDrive/Desktop/Voice Signal Authentication/ML/new audios/other sentences/hassan\",\n",
    "    ],\n",
    "    \"mohannad\": [\n",
    "        \"C:/Users/omara/OneDrive/Desktop/Voice Signal Authentication/ML/new audios/open/mohannad\",\n",
    "        \"C:/Users/omara/OneDrive/Desktop/Voice Signal Authentication/ML/new audios/unlock/mohannad\",\n",
    "        \"C:/Users/omara/OneDrive/Desktop/Voice Signal Authentication/ML/new audios/grant/mohannad\",\n",
    "        \"C:/Users/omara/OneDrive/Desktop/Voice Signal Authentication/ML/new audios/other sentences/mohannad\",\n",
    "    ],\n",
    "    \"other\":[\n",
    "        \"C:/Users/omara/OneDrive/Desktop/Voice Signal Authentication/ML/new audios/other people\", \n",
    "        \"C:/Users/omara/OneDrive/Desktop/Voice Signal Authentication/ML/new audios/tamer\", \n",
    "    ]\n",
    "}\n"
   ]
  },
  {
   "cell_type": "code",
   "execution_count": 11,
   "metadata": {},
   "outputs": [],
   "source": [
    "import os\n",
    "import pandas as pd\n",
    "import numpy as np\n",
    "from sklearn.model_selection import train_test_split\n",
    "from sklearn.preprocessing import LabelEncoder\n",
    "from pydub import AudioSegment\n",
    "import librosa\n",
    "\n",
    "features = []\n",
    "target = []\n",
    "\n",
    "for person, paths in dict1.items():\n",
    "    person_features = []\n",
    "    person_target = []\n",
    "\n",
    "    for path in paths:\n",
    "        audio_files = [os.path.join(path, file) for file in os.listdir(path) if file.endswith('.wav')]\n",
    "\n",
    "        for audio_file in audio_files:\n",
    "            audio, sampleRate = librosa.load(audio_file, res_type='kaiser_fast') \n",
    "            mfcc = mfcc_feature_extractor(audio, sampleRate)\n",
    "            contrast = contrast_feature_extractor(audio, sampleRate)\n",
    "            tonnetz = tonnetz_feature_extractor(audio, sampleRate)\n",
    "            chroma = chroma_feature_extractor(audio, sampleRate)\n",
    "\n",
    "            combined_features = np.concatenate((mfcc, contrast, tonnetz, chroma))\n",
    "            person_features.append(combined_features)\n",
    "            person_target.append(person)\n",
    "\n",
    "    person_features = np.array(person_features)\n",
    "    person_target = np.array(person_target)\n",
    "\n",
    "    encoder = LabelEncoder()\n",
    "    person_target_encoded = encoder.fit_transform(person_target)\n",
    "\n",
    "    xTrain_person, xTest_person, yTrain_person, yTest_person = train_test_split(person_features, person_target_encoded, test_size=0.25, random_state=0)\n",
    "\n",
    "    features.append((xTrain_person, xTest_person))\n",
    "    target.append((yTrain_person, yTest_person))"
   ]
  },
  {
   "cell_type": "code",
   "execution_count": 23,
   "metadata": {},
   "outputs": [
    {
     "data": {
      "text/html": [
       "<style>#sk-container-id-2 {color: black;}#sk-container-id-2 pre{padding: 0;}#sk-container-id-2 div.sk-toggleable {background-color: white;}#sk-container-id-2 label.sk-toggleable__label {cursor: pointer;display: block;width: 100%;margin-bottom: 0;padding: 0.3em;box-sizing: border-box;text-align: center;}#sk-container-id-2 label.sk-toggleable__label-arrow:before {content: \"▸\";float: left;margin-right: 0.25em;color: #696969;}#sk-container-id-2 label.sk-toggleable__label-arrow:hover:before {color: black;}#sk-container-id-2 div.sk-estimator:hover label.sk-toggleable__label-arrow:before {color: black;}#sk-container-id-2 div.sk-toggleable__content {max-height: 0;max-width: 0;overflow: hidden;text-align: left;background-color: #f0f8ff;}#sk-container-id-2 div.sk-toggleable__content pre {margin: 0.2em;color: black;border-radius: 0.25em;background-color: #f0f8ff;}#sk-container-id-2 input.sk-toggleable__control:checked~div.sk-toggleable__content {max-height: 200px;max-width: 100%;overflow: auto;}#sk-container-id-2 input.sk-toggleable__control:checked~label.sk-toggleable__label-arrow:before {content: \"▾\";}#sk-container-id-2 div.sk-estimator input.sk-toggleable__control:checked~label.sk-toggleable__label {background-color: #d4ebff;}#sk-container-id-2 div.sk-label input.sk-toggleable__control:checked~label.sk-toggleable__label {background-color: #d4ebff;}#sk-container-id-2 input.sk-hidden--visually {border: 0;clip: rect(1px 1px 1px 1px);clip: rect(1px, 1px, 1px, 1px);height: 1px;margin: -1px;overflow: hidden;padding: 0;position: absolute;width: 1px;}#sk-container-id-2 div.sk-estimator {font-family: monospace;background-color: #f0f8ff;border: 1px dotted black;border-radius: 0.25em;box-sizing: border-box;margin-bottom: 0.5em;}#sk-container-id-2 div.sk-estimator:hover {background-color: #d4ebff;}#sk-container-id-2 div.sk-parallel-item::after {content: \"\";width: 100%;border-bottom: 1px solid gray;flex-grow: 1;}#sk-container-id-2 div.sk-label:hover label.sk-toggleable__label {background-color: #d4ebff;}#sk-container-id-2 div.sk-serial::before {content: \"\";position: absolute;border-left: 1px solid gray;box-sizing: border-box;top: 0;bottom: 0;left: 50%;z-index: 0;}#sk-container-id-2 div.sk-serial {display: flex;flex-direction: column;align-items: center;background-color: white;padding-right: 0.2em;padding-left: 0.2em;position: relative;}#sk-container-id-2 div.sk-item {position: relative;z-index: 1;}#sk-container-id-2 div.sk-parallel {display: flex;align-items: stretch;justify-content: center;background-color: white;position: relative;}#sk-container-id-2 div.sk-item::before, #sk-container-id-2 div.sk-parallel-item::before {content: \"\";position: absolute;border-left: 1px solid gray;box-sizing: border-box;top: 0;bottom: 0;left: 50%;z-index: -1;}#sk-container-id-2 div.sk-parallel-item {display: flex;flex-direction: column;z-index: 1;position: relative;background-color: white;}#sk-container-id-2 div.sk-parallel-item:first-child::after {align-self: flex-end;width: 50%;}#sk-container-id-2 div.sk-parallel-item:last-child::after {align-self: flex-start;width: 50%;}#sk-container-id-2 div.sk-parallel-item:only-child::after {width: 0;}#sk-container-id-2 div.sk-dashed-wrapped {border: 1px dashed gray;margin: 0 0.4em 0.5em 0.4em;box-sizing: border-box;padding-bottom: 0.4em;background-color: white;}#sk-container-id-2 div.sk-label label {font-family: monospace;font-weight: bold;display: inline-block;line-height: 1.2em;}#sk-container-id-2 div.sk-label-container {text-align: center;}#sk-container-id-2 div.sk-container {/* jupyter's `normalize.less` sets `[hidden] { display: none; }` but bootstrap.min.css set `[hidden] { display: none !important; }` so we also need the `!important` here to be able to override the default hidden behavior on the sphinx rendered scikit-learn.org. See: https://github.com/scikit-learn/scikit-learn/issues/21755 */display: inline-block !important;position: relative;}#sk-container-id-2 div.sk-text-repr-fallback {display: none;}</style><div id=\"sk-container-id-2\" class=\"sk-top-container\"><div class=\"sk-text-repr-fallback\"><pre>SVC(decision_function_shape=&#x27;ovo&#x27;, kernel=&#x27;linear&#x27;, probability=True)</pre><b>In a Jupyter environment, please rerun this cell to show the HTML representation or trust the notebook. <br />On GitHub, the HTML representation is unable to render, please try loading this page with nbviewer.org.</b></div><div class=\"sk-container\" hidden><div class=\"sk-item\"><div class=\"sk-estimator sk-toggleable\"><input class=\"sk-toggleable__control sk-hidden--visually\" id=\"sk-estimator-id-2\" type=\"checkbox\" checked><label for=\"sk-estimator-id-2\" class=\"sk-toggleable__label sk-toggleable__label-arrow\">SVC</label><div class=\"sk-toggleable__content\"><pre>SVC(decision_function_shape=&#x27;ovo&#x27;, kernel=&#x27;linear&#x27;, probability=True)</pre></div></div></div></div></div>"
      ],
      "text/plain": [
       "SVC(decision_function_shape='ovo', kernel='linear', probability=True)"
      ]
     },
     "execution_count": 23,
     "metadata": {},
     "output_type": "execute_result"
    }
   ],
   "source": [
    "from sklearn.svm import SVC\n",
    "from sklearn.metrics import accuracy_score\n",
    "from sklearn.preprocessing import StandardScaler\n",
    "\n",
    "model = SVC(kernel='linear',decision_function_shape=\"ovo\" ,probability=True) \n",
    "\n",
    "# Initialize lists to store results\n",
    "train_accuracies = []\n",
    "test_accuracies = []\n",
    "\n",
    "xTrain = []\n",
    "yTrain = []\n",
    "xTest = []\n",
    "yTest = []\n",
    "\n",
    "cnt = 0\n",
    "for (xTrain_person, xTest_person), (yTrain_person, yTest_person) in zip(features, target):\n",
    "    # encoder.fit(np.concatenate((yTrain_person, yTest_person)))\n",
    "\n",
    "    # Encode the target values\n",
    "    yTrain_person_encoded = [cnt]*len(yTrain_person)\n",
    "    yTest_person_encoded = [cnt]*len(yTest_person)\n",
    "\n",
    "    # Append the encoded values to the lists\n",
    "    xTrain.extend(xTrain_person)\n",
    "\n",
    "    yTrain.extend(yTrain_person_encoded)\n",
    "    xTest.extend(xTest_person)\n",
    "    yTest.extend(yTest_person_encoded)\n",
    "    cnt += 1\n",
    "\n",
    "xTrain = np.array(xTrain)\n",
    "yTrain = np.array(yTrain)\n",
    "xTest = np.array(xTest)\n",
    "yTest = np.array(yTest)\n",
    "\n",
    "model.fit(xTrain, yTrain)"
   ]
  },
  {
   "cell_type": "code",
   "execution_count": 13,
   "metadata": {},
   "outputs": [
    {
     "name": "stdout",
     "output_type": "stream",
     "text": [
      "[0 0 0 0 0 0 0 0 0 0 0 0 1 1 1 1 1 1 1 1 1 2 2 2 2 2 2 2 2 2 2 2 3 3 3 3 3\n",
      " 3 3 3 3 3 3 3 3 4 4 4 4 4 4 4 4 4 4 4 4 4 4 4 5 5 5 5 5 5 5 5 6 6 6 6 6 6\n",
      " 1 6 6 7 7 7 7 7 7 7 7 7 7 7 7 7 7 7 7 7 7 7 7 7 7 7 7 7 7 7 7 7 7 7 7 7 7\n",
      " 3 7 7 7 7 7 7 7 7 7 7 7 7 7 7 7 7 7 7 7 7 7 7 7 7 7 7 7 7 7 7 7 7 7 7 7 7\n",
      " 7 7 7 7 7 7 7 7 7 7 7 7 7 7 7 7 7 7 7 7 7 7 7 7 7 7 7 7 7 7 7 7 7 7 7 7 7\n",
      " 7 7 7 7 7 7 7 7 7 7 7 7 7 7 7]\n"
     ]
    }
   ],
   "source": [
    "preds = model.predict(xTest)\n",
    "print(preds)"
   ]
  },
  {
   "cell_type": "markdown",
   "metadata": {},
   "source": [
    "### making classification report to see the result of the predicton "
   ]
  },
  {
   "cell_type": "code",
   "execution_count": 24,
   "metadata": {},
   "outputs": [
    {
     "name": "stdout",
     "output_type": "stream",
     "text": [
      "              precision    recall  f1-score   support\n",
      "\n",
      "           0       1.00      1.00      1.00        12\n",
      "           1       0.90      1.00      0.95         9\n",
      "           2       1.00      1.00      1.00        11\n",
      "           3       0.93      1.00      0.96        13\n",
      "           4       1.00      1.00      1.00        15\n",
      "           5       1.00      1.00      1.00         8\n",
      "           6       1.00      0.89      0.94         9\n",
      "           7       1.00      0.99      1.00       123\n",
      "\n",
      "    accuracy                           0.99       200\n",
      "   macro avg       0.98      0.99      0.98       200\n",
      "weighted avg       0.99      0.99      0.99       200\n",
      "\n",
      "1.0    0.99\n"
     ]
    }
   ],
   "source": [
    "print(classification_report(yTest, preds))\n",
    "\n",
    "train_predictions = model.predict(xTrain)\n",
    "test_predictions = model.predict(xTest)\n",
    "\n",
    "train_accuracy = accuracy_score(yTrain, train_predictions)\n",
    "test_accuracy = accuracy_score(yTest, test_predictions)\n",
    "\n",
    "print(train_accuracy, \"  \", test_accuracy)"
   ]
  },
  {
   "cell_type": "code",
   "execution_count": 28,
   "metadata": {},
   "outputs": [],
   "source": [
    "def prediction(pred):   \n",
    "    # {'ahmeda': 0, 'ahmedk': 1, 'hassan': 2, 'hazem': 3, 'ibrahim': 4, 'mohannad': 5, 'omar': 6, 'other': 7}\n",
    "    if pred == 0:\n",
    "        return (\"Ibrahim\")\n",
    "    elif pred == 1:\n",
    "        return (\"Ahmed Ali\")\n",
    "    elif pred == 2:\n",
    "        return (\"Omar\")\n",
    "    elif pred == 3:\n",
    "        return (\"Hazem\")\n",
    "    elif pred == 4:\n",
    "        return (\"Ahmed Khaled\")\n",
    "    elif pred == 5:\n",
    "        return (\"Hassan\")\n",
    "    elif pred == 6:\n",
    "        return (\"Mohannad\")\n",
    "    elif pred == 7:\n",
    "        return (\"other\")"
   ]
  },
  {
   "cell_type": "code",
   "execution_count": 39,
   "metadata": {},
   "outputs": [],
   "source": [
    "def my_predict(features):\n",
    "    probabilities = model.predict_proba(features)\n",
    "    # print(probabilities)\n",
    "\n",
    "    for i in range(len(features)):\n",
    "        class_pred_index = probabilities[i].argmax()  \n",
    "        class_pred = probabilities[i, class_pred_index]  \n",
    "        threshold = 0.50\n",
    "        \n",
    "        if class_pred > threshold:\n",
    "            return class_pred_index\n",
    "        else:\n",
    "            return 7"
   ]
  },
  {
   "cell_type": "code",
   "execution_count": 49,
   "metadata": {},
   "outputs": [
    {
     "name": "stdout",
     "output_type": "stream",
     "text": [
      "[[0.04399021 0.0217501  0.00816423 0.01978406 0.01181497 0.04700039\n",
      "  0.82757854 0.0199175 ]]\n",
      "1:  Mohannad\n",
      "2:  Mohannad\n",
      "[[0.01857277 0.00615221 0.00464626 0.01482326 0.00513683 0.02166985\n",
      "  0.92105864 0.0079402 ]]\n",
      "1:  Mohannad\n",
      "2:  Mohannad\n",
      "[[0.01327129 0.02243843 0.00669895 0.0395322  0.00377535 0.10256148\n",
      "  0.79727411 0.01444819]]\n",
      "1:  Mohannad\n",
      "2:  Mohannad\n",
      "[[0.02100185 0.00905084 0.00511214 0.02711047 0.00598528 0.0388388\n",
      "  0.86837896 0.02452166]]\n",
      "1:  Mohannad\n",
      "2:  Mohannad\n",
      "[[0.02634542 0.0082216  0.0074197  0.03746523 0.01100207 0.01537474\n",
      "  0.86924672 0.02492452]]\n",
      "1:  Mohannad\n",
      "2:  Mohannad\n",
      "[[0.02965031 0.01256703 0.00472119 0.0187002  0.00870373 0.01613081\n",
      "  0.89892394 0.01060279]]\n",
      "1:  Mohannad\n",
      "2:  Mohannad\n",
      "[[0.02138672 0.00910395 0.00437224 0.01305108 0.00556966 0.02868697\n",
      "  0.90409074 0.01373864]]\n",
      "1:  Mohannad\n",
      "2:  Mohannad\n",
      "[[0.01478319 0.00834848 0.00464938 0.01036252 0.0052822  0.03886866\n",
      "  0.89822076 0.01948482]]\n",
      "1:  Mohannad\n",
      "2:  Mohannad\n",
      "[[0.02230331 0.01195391 0.01164516 0.01258267 0.01240303 0.01494784\n",
      "  0.89498143 0.01918264]]\n",
      "1:  Mohannad\n",
      "2:  Mohannad\n",
      "[[0.04865048 0.01191327 0.01289909 0.04104821 0.02345704 0.02367762\n",
      "  0.77016102 0.06819326]]\n",
      "1:  Mohannad\n",
      "2:  Mohannad\n",
      "[[0.0375563  0.01481992 0.01790058 0.01814926 0.0283921  0.01326317\n",
      "  0.84176408 0.02815459]]\n",
      "1:  Mohannad\n",
      "2:  Mohannad\n"
     ]
    }
   ],
   "source": [
    "for file in os.listdir(\"C:/Users/omara/OneDrive/Desktop/Voice Signal Authentication/ML/new audios/open/mohannad\"):\n",
    "  testFeatures = features_extractor(f\"C:/Users/omara/OneDrive/Desktop/Voice Signal Authentication/ML/new audios/open/mohannad/{file}\") \n",
    "  print(model.predict_proba(testFeatures))\n",
    "  print(\"1: \",prediction(model.predict(testFeatures)))\n",
    "  print(\"2: \",prediction(my_predict(testFeatures))) "
   ]
  },
  {
   "cell_type": "code",
   "execution_count": 48,
   "metadata": {},
   "outputs": [
    {
     "name": "stdout",
     "output_type": "stream",
     "text": [
      "[[1.17976382e-03 1.23355795e-02 9.62094401e-01 2.56280249e-03\n",
      "  1.28370996e-03 9.29826765e-04 1.83824301e-02 1.23148603e-03]]\n",
      "1:  Omar\n",
      "2:  Omar\n",
      "[[0.01264359 0.01550909 0.83586002 0.07985801 0.00712375 0.00942688\n",
      "  0.02515555 0.01442311]]\n",
      "1:  Omar\n",
      "2:  Omar\n",
      "[[0.01392018 0.02348888 0.80137922 0.04201763 0.00456054 0.01375412\n",
      "  0.09057193 0.01030751]]\n",
      "1:  Omar\n",
      "2:  Omar\n",
      "[[0.00381413 0.03698727 0.85947792 0.0453894  0.00166214 0.02597103\n",
      "  0.01644119 0.01025692]]\n",
      "1:  Omar\n",
      "2:  Omar\n",
      "[[0.00497831 0.02083141 0.90354081 0.00565141 0.00128891 0.0129678\n",
      "  0.04930406 0.0014373 ]]\n",
      "1:  Omar\n",
      "2:  Omar\n"
     ]
    }
   ],
   "source": [
    "for file in os.listdir(\"C:/Users/omara/OneDrive/Desktop/Voice Signal Authentication/ML/new audios/other sentences/omar\")[0:5]:\n",
    "  testFeatures = features_extractor(f\"C:/Users/omara/OneDrive/Desktop/Voice Signal Authentication/ML/new audios/other sentences/omar/{file}\") \n",
    "  print(model.predict_proba(testFeatures))\n",
    "  print(\"1: \",prediction(model.predict(testFeatures)))\n",
    "  print(\"2: \",prediction(my_predict(testFeatures))) "
   ]
  },
  {
   "cell_type": "code",
   "execution_count": 47,
   "metadata": {},
   "outputs": [
    {
     "name": "stdout",
     "output_type": "stream",
     "text": [
      "[[3.18794823e-04 5.48402404e-05 1.84003086e-03 6.27247546e-03\n",
      "  3.48438252e-03 2.75000906e-05 8.80047088e-05 9.87913971e-01]]\n",
      "1:  other\n",
      "2:  other\n",
      "[[7.08243477e-04 3.39698235e-04 8.20524424e-03 1.85157710e-03\n",
      "  3.35502366e-03 1.21752803e-04 4.89672412e-04 9.84928788e-01]]\n",
      "1:  other\n",
      "2:  other\n",
      "[[3.95231738e-04 1.86708419e-04 1.22015904e-02 2.67735509e-03\n",
      "  4.64434141e-03 8.57246388e-05 3.08062142e-04 9.79500986e-01]]\n",
      "1:  other\n",
      "2:  other\n",
      "[[3.33022401e-04 8.85896308e-05 4.16225118e-03 1.70247469e-03\n",
      "  1.83704223e-03 3.35741945e-05 1.54896987e-04 9.91688149e-01]]\n",
      "1:  other\n",
      "2:  other\n",
      "[[3.40712080e-05 2.40768861e-05 1.36490003e-03 4.45918896e-03\n",
      "  3.13268600e-03 2.54653442e-05 9.34906678e-05 9.90866121e-01]]\n",
      "1:  other\n",
      "2:  other\n"
     ]
    }
   ],
   "source": [
    "for file in os.listdir(\"C:/Users/omara/OneDrive/Desktop/Voice Signal Authentication/ML/new audios/other people\")[0:5]:\n",
    "  testFeatures = features_extractor(f\"C:/Users/omara/OneDrive/Desktop/Voice Signal Authentication/ML/new audios/other people/{file}\") \n",
    "  print(model.predict_proba(testFeatures))\n",
    "  print(\"1: \",prediction(model.predict(testFeatures)))\n",
    "  print(\"2: \",prediction(my_predict(testFeatures))) "
   ]
  },
  {
   "cell_type": "code",
   "execution_count": 50,
   "metadata": {},
   "outputs": [
    {
     "name": "stdout",
     "output_type": "stream",
     "text": [
      "[[0.00542062 0.02160502 0.58568306 0.03300999 0.00553833 0.01401241\n",
      "  0.04448048 0.29025008]]\n",
      "1:  Omar\n",
      "2:  Omar\n"
     ]
    }
   ],
   "source": [
    "testFeatures = features_extractor(f\"C:/Users/omara/OneDrive/Desktop/Voice Signal Authentication/dataset/recorded/1.wav\") \n",
    "print(model.predict_proba(testFeatures))\n",
    "print(\"1: \",prediction(model.predict(testFeatures)))\n",
    "print(\"2: \",prediction(my_predict(testFeatures))) "
   ]
  },
  {
   "cell_type": "code",
   "execution_count": 46,
   "metadata": {},
   "outputs": [
    {
     "name": "stdout",
     "output_type": "stream",
     "text": [
      "[[2.43261359e-06 4.39763214e-06 6.74147573e-06 1.39979894e-05\n",
      "  2.08059623e-03 8.08442466e-08 1.40970655e-05 9.97877656e-01]]\n",
      "1:  other\n",
      "2:  other\n",
      "[[1.14787949e-05 2.66286797e-05 1.39599563e-04 9.38420050e-04\n",
      "  3.56430414e-03 1.10915948e-06 2.58189015e-05 9.95292641e-01]]\n",
      "1:  other\n",
      "2:  other\n",
      "[[7.51392469e-04 1.07774333e-04 7.05120787e-04 4.62849912e-03\n",
      "  1.25609186e-02 2.54553551e-05 1.03690382e-04 9.81117149e-01]]\n",
      "1:  other\n",
      "2:  other\n",
      "[[4.30079450e-05 4.03772902e-05 4.55172650e-04 2.64181185e-04\n",
      "  9.04026745e-03 6.32186464e-07 5.20480804e-05 9.90104313e-01]]\n",
      "1:  other\n",
      "2:  other\n",
      "[[2.32283107e-06 4.81327065e-05 1.24006509e-04 3.15925598e-05\n",
      "  1.05204185e-03 2.76630636e-07 1.96567167e-05 9.98721970e-01]]\n",
      "1:  other\n",
      "2:  other\n"
     ]
    }
   ],
   "source": [
    "for file in os.listdir(\"C:/Users/omara/OneDrive/Desktop/Voice Signal Authentication/ML/new audios/tamer\")[0:5]:\n",
    "  testFeatures = features_extractor(f\"C:/Users/omara/OneDrive/Desktop/Voice Signal Authentication/ML/new audios/tamer/{file}\") \n",
    "  print(model.predict_proba(testFeatures))\n",
    "  print(\"1: \",prediction(model.predict(testFeatures)))\n",
    "  print(\"2: \",prediction(my_predict(testFeatures))) "
   ]
  },
  {
   "cell_type": "code",
   "execution_count": 45,
   "metadata": {},
   "outputs": [],
   "source": [
    "pickle_out = open(\"processing.pkl\", \"wb\")\n",
    "pickle.dump(model, pickle_out)\n",
    "pickle_out.close()"
   ]
  },
  {
   "cell_type": "code",
   "execution_count": null,
   "metadata": {},
   "outputs": [],
   "source": []
  }
 ],
 "metadata": {
  "kernelspec": {
   "display_name": "Python 3",
   "language": "python",
   "name": "python3"
  },
  "language_info": {
   "codemirror_mode": {
    "name": "ipython",
    "version": 3
   },
   "file_extension": ".py",
   "mimetype": "text/x-python",
   "name": "python",
   "nbconvert_exporter": "python",
   "pygments_lexer": "ipython3",
   "version": "3.9.13"
  },
  "orig_nbformat": 4,
  "vscode": {
   "interpreter": {
    "hash": "369f2c481f4da34e4445cda3fffd2e751bd1c4d706f27375911949ba6bb62e1c"
   }
  }
 },
 "nbformat": 4,
 "nbformat_minor": 2
}
