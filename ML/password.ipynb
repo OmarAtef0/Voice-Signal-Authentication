{
 "cells": [
  {
   "cell_type": "code",
   "execution_count": 85,
   "metadata": {},
   "outputs": [],
   "source": [
    "import pandas as pd\n",
    "import numpy as np\n",
    "import warnings\n",
    "import matplotlib.pyplot as plt\n",
    "import soundfile as sf\n",
    "from scipy.fft import rfft, rfftfreq\n",
    "import librosa\n",
    "import resampy\n",
    "import librosa.display\n",
    "import IPython.display as ipd\n",
    "import os\n",
    "from xgboost import XGBClassifier\n",
    "from sklearn.preprocessing import LabelEncoder\n",
    "from sklearn.svm import SVC\n",
    "from sklearn.model_selection import train_test_split\n",
    "from sklearn.metrics import classification_report\n",
    "import pickle\n",
    "from sklearn.tree import DecisionTreeClassifier\n",
    "from sklearn.preprocessing import StandardScaler\n",
    "from sklearn.mixture import GaussianMixture\n",
    "from sklearn.ensemble import RandomForestClassifier\n",
    "from sklearn.preprocessing import StandardScaler\n",
    "from sklearn.neighbors import KNeighborsClassifier\n",
    "from pydub import AudioSegment\n",
    "import os\n",
    "warnings.filterwarnings('ignore')\n"
   ]
  },
  {
   "cell_type": "code",
   "execution_count": 86,
   "metadata": {},
   "outputs": [],
   "source": [
    "def mfcc_feature_extractor(audio, sampleRate):\n",
    "    mfccsFeatures = librosa.feature.mfcc(y=audio, sr=sampleRate, n_mfcc=40)\n",
    "    mfccsScaledFeatures = np.mean(mfccsFeatures.T, axis=0)\n",
    "\n",
    "    return mfccsScaledFeatures"
   ]
  },
  {
   "cell_type": "code",
   "execution_count": 87,
   "metadata": {},
   "outputs": [],
   "source": [
    "def contrast_feature_extractor(audio, sampleRate):\n",
    "    stft = np.abs(librosa.stft(audio))\n",
    "    contrast = librosa.feature.spectral_contrast(S=stft, sr=sampleRate)\n",
    "    contrastScaled = np.mean(contrast.T, axis=0)\n",
    "\n",
    "    return contrastScaled"
   ]
  },
  {
   "cell_type": "code",
   "execution_count": 88,
   "metadata": {},
   "outputs": [],
   "source": [
    "def tonnetz_feature_extractor(audio, sampleRate):\n",
    "    tonnetz = librosa.feature.tonnetz(y=librosa.effects.harmonic(audio), sr=sampleRate)\n",
    "    tonnetzScaled = np.mean(tonnetz.T, axis=0)\n",
    "\n",
    "    return tonnetzScaled"
   ]
  },
  {
   "cell_type": "code",
   "execution_count": 89,
   "metadata": {},
   "outputs": [],
   "source": [
    "def chroma_feature_extractor(audio,sampleRate):\n",
    "    stft = np.abs(librosa.stft(audio))\n",
    "    chroma = librosa.feature.chroma_stft(S=stft,sr=sampleRate)\n",
    "    chromaScaled = np.mean(chroma.T,axis=0)\n",
    "    \n",
    "    return chromaScaled"
   ]
  },
  {
   "cell_type": "code",
   "execution_count": 90,
   "metadata": {},
   "outputs": [],
   "source": [
    "def features_extractor(file):\n",
    "    if file.lower().endswith(\".m4a\"):\n",
    "        audio = AudioSegment.from_file(file, format=\"m4a\")\n",
    "        file_name, _ = os.path.splitext(os.path.basename(file))\n",
    "        output_path = os.path.join(os.path.dirname(file), file_name + \".wav\")\n",
    "        audio.export(output_path, format=\"wav\")\n",
    "        # os.remove(file)\n",
    "        file = output_path\n",
    "\n",
    "    features = []\n",
    "    audio, sample_rate = librosa.load(file, res_type='kaiser_fast') \n",
    "    mfcc = mfcc_feature_extractor(audio, sample_rate)\n",
    "    contrast = contrast_feature_extractor(audio, sample_rate)\n",
    "    tonnetz = tonnetz_feature_extractor(audio, sample_rate)\n",
    "    chroma = chroma_feature_extractor(audio, sample_rate)\n",
    "\n",
    "    # Concatenate individual feature arrays\n",
    "    concatenated_features = np.concatenate((mfcc, contrast, tonnetz, chroma), axis=0)\n",
    "    features.append(concatenated_features)\n",
    "\n",
    "    return features"
   ]
  },
  {
   "cell_type": "code",
   "execution_count": 91,
   "metadata": {},
   "outputs": [],
   "source": [
    "def add_features(extractedFeatures, dirPath, label):\n",
    "    for file in os.listdir(dirPath):\n",
    "        filePath = os.path.join(dirPath, file)\n",
    "\n",
    "        if filePath.lower().endswith(\".m4a\"):\n",
    "            audio = AudioSegment.from_file(filePath, format=\"m4a\")\n",
    "            file_name, _ = os.path.splitext(os.path.basename(filePath))\n",
    "            output_path = os.path.join(os.path.dirname(filePath), file_name + \".wav\")\n",
    "            audio.export(output_path, format=\"wav\")\n",
    "            # os.remove(filePath)\n",
    "            filePath = output_path\n",
    "\n",
    "        audio, sampleRate = librosa.load(filePath, res_type='kaiser_fast') \n",
    "        mfcc = mfcc_feature_extractor(audio, sampleRate)\n",
    "        contrast = contrast_feature_extractor(audio, sampleRate)\n",
    "        tonnetz = tonnetz_feature_extractor(audio, sampleRate)\n",
    "        chroma = chroma_feature_extractor(audio, sampleRate)\n",
    "\n",
    "        extractedFeatures.append([mfcc, contrast, tonnetz, chroma, label])"
   ]
  },
  {
   "cell_type": "code",
   "execution_count": 92,
   "metadata": {},
   "outputs": [],
   "source": [
    "dict1 = {\n",
    "\"open\":[\n",
    "\"C:/Users/omara/OneDrive/Desktop/Voice Signal Authentication/ML/new audios/open/ahmeda\",\n",
    "\"C:/Users/omara/OneDrive/Desktop/Voice Signal Authentication/ML/new audios/open/ahmedk\",\n",
    "\"C:/Users/omara/OneDrive/Desktop/Voice Signal Authentication/ML/new audios/open/hassan\",\n",
    "\"C:/Users/omara/OneDrive/Desktop/Voice Signal Authentication/ML/new audios/open/hazem\",\n",
    "\"C:/Users/omara/OneDrive/Desktop/Voice Signal Authentication/ML/new audios/open/ibrahim\",\n",
    "\"C:/Users/omara/OneDrive/Desktop/Voice Signal Authentication/ML/new audios/open/mohannad\",\n",
    "\"C:/Users/omara/OneDrive/Desktop/Voice Signal Authentication/ML/new audios/open/omar\",\n",
    "],\n",
    "\n",
    "\"unlock\":[\n",
    "\"C:/Users/omara/OneDrive/Desktop/Voice Signal Authentication/ML/new audios/unlock/ahmeda\",\n",
    "\"C:/Users/omara/OneDrive/Desktop/Voice Signal Authentication/ML/new audios/unlock/ahmedk\",\n",
    "\"C:/Users/omara/OneDrive/Desktop/Voice Signal Authentication/ML/new audios/unlock/hassan\",\n",
    "\"C:/Users/omara/OneDrive/Desktop/Voice Signal Authentication/ML/new audios/unlock/hazem\",\n",
    "\"C:/Users/omara/OneDrive/Desktop/Voice Signal Authentication/ML/new audios/unlock/ibrahim\",\n",
    "\"C:/Users/omara/OneDrive/Desktop/Voice Signal Authentication/ML/new audios/unlock/mohannad\",\n",
    "\"C:/Users/omara/OneDrive/Desktop/Voice Signal Authentication/ML/new audios/unlock/omar\",\n",
    "],\n",
    "\n",
    "\"grant\":[\n",
    "\"C:/Users/omara/OneDrive/Desktop/Voice Signal Authentication/ML/new audios/grant/ahmeda\",\n",
    "\"C:/Users/omara/OneDrive/Desktop/Voice Signal Authentication/ML/new audios/grant/ahmedk\",\n",
    "\"C:/Users/omara/OneDrive/Desktop/Voice Signal Authentication/ML/new audios/grant/hassan\",\n",
    "\"C:/Users/omara/OneDrive/Desktop/Voice Signal Authentication/ML/new audios/grant/hazem\",\n",
    "\"C:/Users/omara/OneDrive/Desktop/Voice Signal Authentication/ML/new audios/grant/ibrahim\",\n",
    "\"C:/Users/omara/OneDrive/Desktop/Voice Signal Authentication/ML/new audios/grant/mohannad\",\n",
    "\"C:/Users/omara/OneDrive/Desktop/Voice Signal Authentication/ML/new audios/grant/omar\",\n",
    "\n",
    "],\n",
    "\"other\":[\n",
    "\"C:/Users/omara/OneDrive/Desktop/Voice Signal Authentication/ML/new audios/other sentences/ahmeda\",\n",
    "\"C:/Users/omara/OneDrive/Desktop/Voice Signal Authentication/ML/new audios/other sentences/ahmedk\",\n",
    "\"C:/Users/omara/OneDrive/Desktop/Voice Signal Authentication/ML/new audios/other sentences/hassan\",\n",
    "\"C:/Users/omara/OneDrive/Desktop/Voice Signal Authentication/ML/new audios/other sentences/hazem\",\n",
    "\"C:/Users/omara/OneDrive/Desktop/Voice Signal Authentication/ML/new audios/other sentences/ibrahim\",\n",
    "\"C:/Users/omara/OneDrive/Desktop/Voice Signal Authentication/ML/new audios/other sentences/mohannad\",\n",
    "\"C:/Users/omara/OneDrive/Desktop/Voice Signal Authentication/ML/new audios/other sentences/omar\",\n",
    "]\n",
    "}\n"
   ]
  },
  {
   "cell_type": "code",
   "execution_count": 93,
   "metadata": {},
   "outputs": [],
   "source": [
    "extractedFeatures = []\n",
    "for i in dict1.keys():\n",
    "    for x in dict1[i]:\n",
    "        add_features(extractedFeatures, x, i)"
   ]
  },
  {
   "cell_type": "code",
   "execution_count": 94,
   "metadata": {},
   "outputs": [
    {
     "name": "stdout",
     "output_type": "stream",
     "text": [
      "(307, 5)\n"
     ]
    },
    {
     "data": {
      "text/html": [
       "<div>\n",
       "<style scoped>\n",
       "    .dataframe tbody tr th:only-of-type {\n",
       "        vertical-align: middle;\n",
       "    }\n",
       "\n",
       "    .dataframe tbody tr th {\n",
       "        vertical-align: top;\n",
       "    }\n",
       "\n",
       "    .dataframe thead th {\n",
       "        text-align: right;\n",
       "    }\n",
       "</style>\n",
       "<table border=\"1\" class=\"dataframe\">\n",
       "  <thead>\n",
       "    <tr style=\"text-align: right;\">\n",
       "      <th></th>\n",
       "      <th>count</th>\n",
       "      <th>unique</th>\n",
       "      <th>top</th>\n",
       "      <th>freq</th>\n",
       "    </tr>\n",
       "  </thead>\n",
       "  <tbody>\n",
       "    <tr>\n",
       "      <th>mfcc</th>\n",
       "      <td>307</td>\n",
       "      <td>307</td>\n",
       "      <td>[-488.23578, 103.44409, 9.910593, 33.63195, 6....</td>\n",
       "      <td>1</td>\n",
       "    </tr>\n",
       "    <tr>\n",
       "      <th>contrast</th>\n",
       "      <td>307</td>\n",
       "      <td>307</td>\n",
       "      <td>[23.98104457049824, 14.883558570433792, 19.139...</td>\n",
       "      <td>1</td>\n",
       "    </tr>\n",
       "    <tr>\n",
       "      <th>tonnetz</th>\n",
       "      <td>307</td>\n",
       "      <td>307</td>\n",
       "      <td>[-0.01461258018698804, 0.0065578272256597275, ...</td>\n",
       "      <td>1</td>\n",
       "    </tr>\n",
       "    <tr>\n",
       "      <th>chroma</th>\n",
       "      <td>307</td>\n",
       "      <td>307</td>\n",
       "      <td>[0.5946693, 0.6137347, 0.62787664, 0.614527, 0...</td>\n",
       "      <td>1</td>\n",
       "    </tr>\n",
       "    <tr>\n",
       "      <th>class</th>\n",
       "      <td>307</td>\n",
       "      <td>4</td>\n",
       "      <td>other</td>\n",
       "      <td>83</td>\n",
       "    </tr>\n",
       "  </tbody>\n",
       "</table>\n",
       "</div>"
      ],
      "text/plain": [
       "         count unique                                                top freq\n",
       "mfcc       307    307  [-488.23578, 103.44409, 9.910593, 33.63195, 6....    1\n",
       "contrast   307    307  [23.98104457049824, 14.883558570433792, 19.139...    1\n",
       "tonnetz    307    307  [-0.01461258018698804, 0.0065578272256597275, ...    1\n",
       "chroma     307    307  [0.5946693, 0.6137347, 0.62787664, 0.614527, 0...    1\n",
       "class      307      4                                              other   83"
      ]
     },
     "execution_count": 94,
     "metadata": {},
     "output_type": "execute_result"
    }
   ],
   "source": [
    "data = pd.DataFrame(extractedFeatures, columns=['mfcc','contrast','tonnetz','chroma','class'])\n",
    "print(data.shape)\n",
    "data.to_csv('password.csv', index=False)\n",
    "data.describe().T"
   ]
  },
  {
   "cell_type": "code",
   "execution_count": 95,
   "metadata": {},
   "outputs": [
    {
     "data": {
      "text/plain": [
       "array(['open', 'unlock', 'grant', 'other'], dtype=object)"
      ]
     },
     "execution_count": 95,
     "metadata": {},
     "output_type": "execute_result"
    }
   ],
   "source": [
    "features = data.iloc[:, 0:-1]\n",
    "target = data['class']\n",
    "target.unique()"
   ]
  },
  {
   "cell_type": "code",
   "execution_count": 96,
   "metadata": {},
   "outputs": [],
   "source": [
    "features = features.values.tolist()\n",
    "for i in range(len(features)):\n",
    "    features[i] = np.concatenate((features[i][0],features[i][1],features[i][2],features[i][3]))"
   ]
  },
  {
   "cell_type": "code",
   "execution_count": 97,
   "metadata": {},
   "outputs": [],
   "source": [
    "encoder = LabelEncoder()\n",
    "target = encoder.fit_transform(target)"
   ]
  },
  {
   "cell_type": "code",
   "execution_count": 98,
   "metadata": {},
   "outputs": [
    {
     "name": "stdout",
     "output_type": "stream",
     "text": [
      "Class 0: 72 instances\n",
      "Class 1: 78 instances\n",
      "Class 2: 83 instances\n",
      "Class 3: 74 instances\n"
     ]
    }
   ],
   "source": [
    "class_counts = np.bincount(target)\n",
    "\n",
    "for class_label, count in enumerate(class_counts):\n",
    "    print(f\"Class {class_label}: {count} instances\")"
   ]
  },
  {
   "cell_type": "code",
   "execution_count": 99,
   "metadata": {},
   "outputs": [],
   "source": [
    "xTrain, xTest, yTrain, yTest = train_test_split(features, target, test_size=0.25, random_state=105)"
   ]
  },
  {
   "cell_type": "markdown",
   "metadata": {},
   "source": [
    "### creating RandomForest model"
   ]
  },
  {
   "cell_type": "code",
   "execution_count": 100,
   "metadata": {},
   "outputs": [
    {
     "data": {
      "text/html": [
       "<style>#sk-container-id-7 {color: black;}#sk-container-id-7 pre{padding: 0;}#sk-container-id-7 div.sk-toggleable {background-color: white;}#sk-container-id-7 label.sk-toggleable__label {cursor: pointer;display: block;width: 100%;margin-bottom: 0;padding: 0.3em;box-sizing: border-box;text-align: center;}#sk-container-id-7 label.sk-toggleable__label-arrow:before {content: \"▸\";float: left;margin-right: 0.25em;color: #696969;}#sk-container-id-7 label.sk-toggleable__label-arrow:hover:before {color: black;}#sk-container-id-7 div.sk-estimator:hover label.sk-toggleable__label-arrow:before {color: black;}#sk-container-id-7 div.sk-toggleable__content {max-height: 0;max-width: 0;overflow: hidden;text-align: left;background-color: #f0f8ff;}#sk-container-id-7 div.sk-toggleable__content pre {margin: 0.2em;color: black;border-radius: 0.25em;background-color: #f0f8ff;}#sk-container-id-7 input.sk-toggleable__control:checked~div.sk-toggleable__content {max-height: 200px;max-width: 100%;overflow: auto;}#sk-container-id-7 input.sk-toggleable__control:checked~label.sk-toggleable__label-arrow:before {content: \"▾\";}#sk-container-id-7 div.sk-estimator input.sk-toggleable__control:checked~label.sk-toggleable__label {background-color: #d4ebff;}#sk-container-id-7 div.sk-label input.sk-toggleable__control:checked~label.sk-toggleable__label {background-color: #d4ebff;}#sk-container-id-7 input.sk-hidden--visually {border: 0;clip: rect(1px 1px 1px 1px);clip: rect(1px, 1px, 1px, 1px);height: 1px;margin: -1px;overflow: hidden;padding: 0;position: absolute;width: 1px;}#sk-container-id-7 div.sk-estimator {font-family: monospace;background-color: #f0f8ff;border: 1px dotted black;border-radius: 0.25em;box-sizing: border-box;margin-bottom: 0.5em;}#sk-container-id-7 div.sk-estimator:hover {background-color: #d4ebff;}#sk-container-id-7 div.sk-parallel-item::after {content: \"\";width: 100%;border-bottom: 1px solid gray;flex-grow: 1;}#sk-container-id-7 div.sk-label:hover label.sk-toggleable__label {background-color: #d4ebff;}#sk-container-id-7 div.sk-serial::before {content: \"\";position: absolute;border-left: 1px solid gray;box-sizing: border-box;top: 0;bottom: 0;left: 50%;z-index: 0;}#sk-container-id-7 div.sk-serial {display: flex;flex-direction: column;align-items: center;background-color: white;padding-right: 0.2em;padding-left: 0.2em;position: relative;}#sk-container-id-7 div.sk-item {position: relative;z-index: 1;}#sk-container-id-7 div.sk-parallel {display: flex;align-items: stretch;justify-content: center;background-color: white;position: relative;}#sk-container-id-7 div.sk-item::before, #sk-container-id-7 div.sk-parallel-item::before {content: \"\";position: absolute;border-left: 1px solid gray;box-sizing: border-box;top: 0;bottom: 0;left: 50%;z-index: -1;}#sk-container-id-7 div.sk-parallel-item {display: flex;flex-direction: column;z-index: 1;position: relative;background-color: white;}#sk-container-id-7 div.sk-parallel-item:first-child::after {align-self: flex-end;width: 50%;}#sk-container-id-7 div.sk-parallel-item:last-child::after {align-self: flex-start;width: 50%;}#sk-container-id-7 div.sk-parallel-item:only-child::after {width: 0;}#sk-container-id-7 div.sk-dashed-wrapped {border: 1px dashed gray;margin: 0 0.4em 0.5em 0.4em;box-sizing: border-box;padding-bottom: 0.4em;background-color: white;}#sk-container-id-7 div.sk-label label {font-family: monospace;font-weight: bold;display: inline-block;line-height: 1.2em;}#sk-container-id-7 div.sk-label-container {text-align: center;}#sk-container-id-7 div.sk-container {/* jupyter's `normalize.less` sets `[hidden] { display: none; }` but bootstrap.min.css set `[hidden] { display: none !important; }` so we also need the `!important` here to be able to override the default hidden behavior on the sphinx rendered scikit-learn.org. See: https://github.com/scikit-learn/scikit-learn/issues/21755 */display: inline-block !important;position: relative;}#sk-container-id-7 div.sk-text-repr-fallback {display: none;}</style><div id=\"sk-container-id-7\" class=\"sk-top-container\"><div class=\"sk-text-repr-fallback\"><pre>RandomForestClassifier(criterion=&#x27;entropy&#x27;)</pre><b>In a Jupyter environment, please rerun this cell to show the HTML representation or trust the notebook. <br />On GitHub, the HTML representation is unable to render, please try loading this page with nbviewer.org.</b></div><div class=\"sk-container\" hidden><div class=\"sk-item\"><div class=\"sk-estimator sk-toggleable\"><input class=\"sk-toggleable__control sk-hidden--visually\" id=\"sk-estimator-id-7\" type=\"checkbox\" checked><label for=\"sk-estimator-id-7\" class=\"sk-toggleable__label sk-toggleable__label-arrow\">RandomForestClassifier</label><div class=\"sk-toggleable__content\"><pre>RandomForestClassifier(criterion=&#x27;entropy&#x27;)</pre></div></div></div></div></div>"
      ],
      "text/plain": [
       "RandomForestClassifier(criterion='entropy')"
      ]
     },
     "execution_count": 100,
     "metadata": {},
     "output_type": "execute_result"
    }
   ],
   "source": [
    "classifier = RandomForestClassifier(n_estimators=100, criterion=\"entropy\")\n",
    "classifier.fit(xTrain,yTrain)"
   ]
  },
  {
   "cell_type": "markdown",
   "metadata": {},
   "source": [
    "### creating SVM model"
   ]
  },
  {
   "cell_type": "code",
   "execution_count": 101,
   "metadata": {},
   "outputs": [],
   "source": [
    "# classifier = SVC(kernel='linear',decision_function_shape=\"ovo\" ,probability=True) \n",
    "# classifier.fit(xTrain,yTrain)"
   ]
  },
  {
   "cell_type": "markdown",
   "metadata": {},
   "source": [
    "### creating XGBoost model"
   ]
  },
  {
   "cell_type": "code",
   "execution_count": 102,
   "metadata": {},
   "outputs": [],
   "source": [
    "# classifier = XGBClassifier(objective='multi:softmax', num_class=4, eval_metric='mlogloss')\n",
    "# classifier.fit(xTrain, yTrain)"
   ]
  },
  {
   "cell_type": "code",
   "execution_count": 103,
   "metadata": {},
   "outputs": [],
   "source": [
    "preds = classifier.predict(xTest)"
   ]
  },
  {
   "cell_type": "code",
   "execution_count": 104,
   "metadata": {},
   "outputs": [
    {
     "name": "stdout",
     "output_type": "stream",
     "text": [
      "              precision    recall  f1-score   support\n",
      "\n",
      "           0       0.88      0.83      0.86        18\n",
      "           1       0.83      0.94      0.88        16\n",
      "           2       0.83      0.95      0.88        20\n",
      "           3       0.79      0.65      0.71        23\n",
      "\n",
      "    accuracy                           0.83        77\n",
      "   macro avg       0.83      0.84      0.83        77\n",
      "weighted avg       0.83      0.83      0.83        77\n",
      "\n"
     ]
    }
   ],
   "source": [
    "print(classification_report(yTest, preds))"
   ]
  },
  {
   "cell_type": "code",
   "execution_count": 105,
   "metadata": {},
   "outputs": [],
   "source": [
    "def prediction(pred):\n",
    "    if pred == 0:\n",
    "        print(\"grant\")\n",
    "    elif pred == 1:\n",
    "        print(\"open\")\n",
    "    elif pred == 2:\n",
    "        print(\"other\")\n",
    "    elif pred == 3:\n",
    "        print(\"unlock\")"
   ]
  },
  {
   "cell_type": "code",
   "execution_count": 106,
   "metadata": {},
   "outputs": [
    {
     "name": "stdout",
     "output_type": "stream",
     "text": [
      "open\n",
      "[[0.18 0.49 0.12 0.21]]\n"
     ]
    }
   ],
   "source": [
    "testFeatures = features_extractor(f\"C:/Users/omara/OneDrive/Desktop/Voice Signal Authentication/dataset/recorded/2.m4a\") \n",
    "pred = classifier.predict(testFeatures)\n",
    "prediction(pred)\n",
    "print(classifier.predict_proba(testFeatures))"
   ]
  },
  {
   "cell_type": "code",
   "execution_count": 107,
   "metadata": {},
   "outputs": [],
   "source": [
    "# testFeatures = features_extractor(\"C:/Users/omara/OneDrive/Desktop/Voice Signal Authentication/ML/new audios/open/omar/omar_open_middle_door_1.wav\") # open middle door\n",
    "# pred = classifier.predict(testFeatures)\n",
    "# prediction(pred)\n",
    "# print(classifier.predict_proba(testFeatures))"
   ]
  },
  {
   "cell_type": "code",
   "execution_count": 108,
   "metadata": {},
   "outputs": [
    {
     "name": "stdout",
     "output_type": "stream",
     "text": [
      "unlock\n",
      "[[0.15 0.06 0.01 0.78]]\n"
     ]
    }
   ],
   "source": [
    "testFeatures = features_extractor(\"C:/Users/omara/OneDrive/Desktop/Voice Signal Authentication/ML/new audios/unlock/mohannad/Recording (57).wav\") # unlock the gate\n",
    "pred = classifier.predict(testFeatures)\n",
    "prediction(pred)\n",
    "print(classifier.predict_proba(testFeatures))"
   ]
  },
  {
   "cell_type": "code",
   "execution_count": 109,
   "metadata": {},
   "outputs": [
    {
     "name": "stdout",
     "output_type": "stream",
     "text": [
      "open\n",
      "[[0.04 0.86 0.02 0.08]]\n",
      "open\n",
      "[[0.04 0.86 0.02 0.08]]\n",
      "open\n",
      "[[0.01 0.94 0.03 0.02]]\n",
      "open\n",
      "[[0.01 0.94 0.03 0.02]]\n",
      "open\n",
      "[[0.   0.92 0.05 0.03]]\n",
      "open\n",
      "[[0.   0.92 0.05 0.03]]\n",
      "open\n",
      "[[0.   0.95 0.04 0.01]]\n",
      "open\n",
      "[[0.   0.95 0.04 0.01]]\n",
      "open\n",
      "[[0.01 0.93 0.04 0.02]]\n",
      "open\n",
      "[[0.01 0.93 0.04 0.02]]\n"
     ]
    }
   ],
   "source": [
    "for file in os.listdir(\"C:/Users/omara/OneDrive/Desktop/Voice Signal Authentication/ML/new audios/open/omar\")[0:10]:\n",
    "  testFeatures = features_extractor(f\"C:/Users/omara/OneDrive/Desktop/Voice Signal Authentication/ML/new audios/open/omar/{file}\") \n",
    "  pred = classifier.predict(testFeatures)\n",
    "  prediction(pred) \n",
    "  print(classifier.predict_proba(testFeatures))"
   ]
  },
  {
   "cell_type": "code",
   "execution_count": 110,
   "metadata": {},
   "outputs": [
    {
     "name": "stdout",
     "output_type": "stream",
     "text": [
      "open\n",
      "[[0.04 0.71 0.11 0.14]]\n",
      "open\n",
      "[[0.   0.8  0.08 0.12]]\n",
      "open\n",
      "[[0.   0.75 0.12 0.13]]\n",
      "open\n",
      "[[0.01 0.7  0.14 0.15]]\n",
      "open\n",
      "[[0.06 0.47 0.32 0.15]]\n"
     ]
    }
   ],
   "source": [
    "for file in os.listdir(\"C:/Users/omara/OneDrive/Desktop/Voice Signal Authentication/ML/new audios/open/hazem\")[0:5]:\n",
    "  testFeatures = features_extractor(f\"C:/Users/omara/OneDrive/Desktop/Voice Signal Authentication/ML/new audios/open/hazem/{file}\") \n",
    "  pred = classifier.predict(testFeatures)\n",
    "  prediction(pred)\n",
    "  print(classifier.predict_proba(testFeatures))"
   ]
  },
  {
   "cell_type": "code",
   "execution_count": 111,
   "metadata": {},
   "outputs": [],
   "source": [
    "pickle_out = open(\"password.pkl\", \"wb\")\n",
    "pickle.dump(classifier, pickle_out)\n",
    "pickle_out.close()"
   ]
  },
  {
   "cell_type": "code",
   "execution_count": null,
   "metadata": {},
   "outputs": [],
   "source": []
  }
 ],
 "metadata": {
  "kernelspec": {
   "display_name": "Python 3",
   "language": "python",
   "name": "python3"
  },
  "language_info": {
   "codemirror_mode": {
    "name": "ipython",
    "version": 3
   },
   "file_extension": ".py",
   "mimetype": "text/x-python",
   "name": "python",
   "nbconvert_exporter": "python",
   "pygments_lexer": "ipython3",
   "version": "3.9.13"
  },
  "orig_nbformat": 4,
  "vscode": {
   "interpreter": {
    "hash": "b35c0e0c22f4e69d6176338ddf1640bc0c3891cabe89a14316f917f290cba1ea"
   }
  }
 },
 "nbformat": 4,
 "nbformat_minor": 2
}
