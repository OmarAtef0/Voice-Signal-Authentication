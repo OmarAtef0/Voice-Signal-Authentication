{
 "cells": [
  {
   "cell_type": "code",
   "execution_count": 71,
   "metadata": {},
   "outputs": [],
   "source": [
    "import pandas as pd\n",
    "import numpy as np\n",
    "import warnings\n",
    "import matplotlib.pyplot as plt\n",
    "import soundfile as sf\n",
    "from scipy.fft import rfft, rfftfreq\n",
    "import librosa\n",
    "import resampy\n",
    "import librosa.display\n",
    "import IPython.display as ipd\n",
    "import os\n",
    "from xgboost import XGBClassifier\n",
    "from sklearn.preprocessing import LabelEncoder\n",
    "from sklearn.svm import SVC\n",
    "from sklearn.model_selection import train_test_split\n",
    "from sklearn.metrics import classification_report\n",
    "import pickle\n",
    "from sklearn.tree import DecisionTreeClassifier\n",
    "from sklearn.preprocessing import StandardScaler\n",
    "from sklearn.mixture import GaussianMixture\n",
    "from sklearn.ensemble import RandomForestClassifier\n",
    "from sklearn.preprocessing import StandardScaler\n",
    "from sklearn.neighbors import KNeighborsClassifier\n",
    "from pydub import AudioSegment\n",
    "import os\n",
    "warnings.filterwarnings('ignore')\n"
   ]
  },
  {
   "cell_type": "code",
   "execution_count": 72,
   "metadata": {},
   "outputs": [],
   "source": [
    "def mfcc_feature_extractor(audio, sampleRate):\n",
    "    mfccsFeatures = librosa.feature.mfcc(y=audio, sr=sampleRate, n_mfcc=40)\n",
    "    mfccsScaledFeatures = np.mean(mfccsFeatures.T, axis=0)\n",
    "\n",
    "    return mfccsScaledFeatures"
   ]
  },
  {
   "cell_type": "code",
   "execution_count": 73,
   "metadata": {},
   "outputs": [],
   "source": [
    "def contrast_feature_extractor(audio, sampleRate):\n",
    "    stft = np.abs(librosa.stft(audio))\n",
    "    contrast = librosa.feature.spectral_contrast(S=stft, sr=sampleRate)\n",
    "    contrastScaled = np.mean(contrast.T, axis=0)\n",
    "\n",
    "    return contrastScaled"
   ]
  },
  {
   "cell_type": "code",
   "execution_count": 74,
   "metadata": {},
   "outputs": [],
   "source": [
    "def tonnetz_feature_extractor(audio, sampleRate):\n",
    "    tonnetz = librosa.feature.tonnetz(y=librosa.effects.harmonic(audio), sr=sampleRate)\n",
    "    tonnetzScaled = np.mean(tonnetz.T, axis=0)\n",
    "\n",
    "    return tonnetzScaled"
   ]
  },
  {
   "cell_type": "code",
   "execution_count": 75,
   "metadata": {},
   "outputs": [],
   "source": [
    "def chroma_feature_extractor(audio,sampleRate):\n",
    "    stft = np.abs(librosa.stft(audio))\n",
    "    chroma = librosa.feature.chroma_stft(S=stft,sr=sampleRate)\n",
    "    chromaScaled = np.mean(chroma.T,axis=0)\n",
    "    \n",
    "    return chromaScaled"
   ]
  },
  {
   "cell_type": "code",
   "execution_count": 76,
   "metadata": {},
   "outputs": [],
   "source": [
    "def features_extractor(file):\n",
    "    if file.lower().endswith(\".m4a\"):\n",
    "        audio = AudioSegment.from_file(file, format=\"m4a\")\n",
    "        file_name, _ = os.path.splitext(os.path.basename(file))\n",
    "        output_path = os.path.join(os.path.dirname(file), file_name + \".wav\")\n",
    "        audio.export(output_path, format=\"wav\")\n",
    "        os.remove(file)\n",
    "        file = output_path\n",
    "\n",
    "    features = []\n",
    "    audio, sample_rate = librosa.load(file, res_type='kaiser_fast') \n",
    "    mfcc = mfcc_feature_extractor(audio, sample_rate)\n",
    "    contrast = contrast_feature_extractor(audio, sample_rate)\n",
    "    tonnetz = tonnetz_feature_extractor(audio, sample_rate)\n",
    "    chroma = chroma_feature_extractor(audio, sample_rate)\n",
    "\n",
    "    # Concatenate individual feature arrays\n",
    "    concatenated_features = np.concatenate((mfcc, contrast, tonnetz, chroma), axis=0)\n",
    "    features.append(concatenated_features)\n",
    "\n",
    "    return features"
   ]
  },
  {
   "cell_type": "code",
   "execution_count": 77,
   "metadata": {},
   "outputs": [],
   "source": [
    "def add_features(extractedFeatures, dirPath, label):\n",
    "    for file in os.listdir(dirPath):\n",
    "        filePath = os.path.join(dirPath, file)\n",
    "\n",
    "        if filePath.lower().endswith(\".m4a\"):\n",
    "            audio = AudioSegment.from_file(filePath, format=\"m4a\")\n",
    "            file_name, _ = os.path.splitext(os.path.basename(filePath))\n",
    "            output_path = os.path.join(os.path.dirname(filePath), file_name + \".wav\")\n",
    "            audio.export(output_path, format=\"wav\")\n",
    "            os.remove(filePath)\n",
    "            filePath = output_path\n",
    "\n",
    "        audio, sampleRate = librosa.load(filePath, res_type='kaiser_fast') \n",
    "        mfcc = mfcc_feature_extractor(audio, sampleRate)\n",
    "        contrast = contrast_feature_extractor(audio, sampleRate)\n",
    "        tonnetz = tonnetz_feature_extractor(audio, sampleRate)\n",
    "        chroma = chroma_feature_extractor(audio, sampleRate)\n",
    "\n",
    "        extractedFeatures.append([mfcc, contrast, tonnetz, chroma, label])"
   ]
  },
  {
   "cell_type": "code",
   "execution_count": 78,
   "metadata": {},
   "outputs": [],
   "source": [
    "dict = {\n",
    "\"correct\":[\n",
    "\"C:/Users/omara/OneDrive/Desktop/Voice Signal Authentication/ML/new audios/open/ahmeda\",\n",
    "\"C:/Users/omara/OneDrive/Desktop/Voice Signal Authentication/ML/new audios/open/ahmedk\",\n",
    "\"C:/Users/omara/OneDrive/Desktop/Voice Signal Authentication/ML/new audios/open/hassan\",\n",
    "\"C:/Users/omara/OneDrive/Desktop/Voice Signal Authentication/ML/new audios/open/hazem\",\n",
    "\"C:/Users/omara/OneDrive/Desktop/Voice Signal Authentication/ML/new audios/open/ibrahim\",\n",
    "\"C:/Users/omara/OneDrive/Desktop/Voice Signal Authentication/ML/new audios/open/mohannad\",\n",
    "\"C:/Users/omara/OneDrive/Desktop/Voice Signal Authentication/ML/new audios/open/omar\",\n",
    "\n",
    "\"C:/Users/omara/OneDrive/Desktop/Voice Signal Authentication/ML/new audios/unlock/ahmeda\",\n",
    "\"C:/Users/omara/OneDrive/Desktop/Voice Signal Authentication/ML/new audios/unlock/ahmedk\",\n",
    "\"C:/Users/omara/OneDrive/Desktop/Voice Signal Authentication/ML/new audios/unlock/hassan\",\n",
    "\"C:/Users/omara/OneDrive/Desktop/Voice Signal Authentication/ML/new audios/unlock/hazem\",\n",
    "\"C:/Users/omara/OneDrive/Desktop/Voice Signal Authentication/ML/new audios/unlock/ibrahim\",\n",
    "\"C:/Users/omara/OneDrive/Desktop/Voice Signal Authentication/ML/new audios/unlock/mohannad\",\n",
    "\"C:/Users/omara/OneDrive/Desktop/Voice Signal Authentication/ML/new audios/unlock/omar\",\n",
    "\n",
    "\"C:/Users/omara/OneDrive/Desktop/Voice Signal Authentication/ML/new audios/grant/ahmeda\",\n",
    "\"C:/Users/omara/OneDrive/Desktop/Voice Signal Authentication/ML/new audios/grant/ahmedk\",\n",
    "\"C:/Users/omara/OneDrive/Desktop/Voice Signal Authentication/ML/new audios/grant/hassan\",\n",
    "\"C:/Users/omara/OneDrive/Desktop/Voice Signal Authentication/ML/new audios/grant/hazem\",\n",
    "\"C:/Users/omara/OneDrive/Desktop/Voice Signal Authentication/ML/new audios/grant/ibrahim\",\n",
    "\"C:/Users/omara/OneDrive/Desktop/Voice Signal Authentication/ML/new audios/grant/mohannad\",\n",
    "\"C:/Users/omara/OneDrive/Desktop/Voice Signal Authentication/ML/new audios/grant/omar\",\n",
    "],\n",
    "\"wrong\":[\n",
    "\"C:/Users/omara/OneDrive/Desktop/Voice Signal Authentication/ML/new audios/other sentences/ahmeda\",\n",
    "\"C:/Users/omara/OneDrive/Desktop/Voice Signal Authentication/ML/new audios/other sentences/ahmedk\",\n",
    "\"C:/Users/omara/OneDrive/Desktop/Voice Signal Authentication/ML/new audios/other sentences/hassan\",\n",
    "\"C:/Users/omara/OneDrive/Desktop/Voice Signal Authentication/ML/new audios/other sentences/hazem\",\n",
    "\"C:/Users/omara/OneDrive/Desktop/Voice Signal Authentication/ML/new audios/other sentences/ibrahim\",\n",
    "\"C:/Users/omara/OneDrive/Desktop/Voice Signal Authentication/ML/new audios/other sentences/mohannad\",\n",
    "\"C:/Users/omara/OneDrive/Desktop/Voice Signal Authentication/ML/new audios/other sentences/omar\",\n",
    "\n",
    "# \"C:/Users/omara/OneDrive/Desktop/Voice Signal Authentication/ML/new audios/other people\", \n",
    "\"C:/Users/omara/OneDrive/Desktop/Voice Signal Authentication/ML/new audios/tamer\", \n",
    "]}\n"
   ]
  },
  {
   "cell_type": "code",
   "execution_count": 79,
   "metadata": {},
   "outputs": [],
   "source": [
    "extractedFeatures = []\n",
    "for i in dict.keys():\n",
    "    for x in dict[i]:\n",
    "        add_features(extractedFeatures, x, i)"
   ]
  },
  {
   "cell_type": "code",
   "execution_count": 80,
   "metadata": {},
   "outputs": [
    {
     "name": "stdout",
     "output_type": "stream",
     "text": [
      "(317, 5)\n"
     ]
    },
    {
     "data": {
      "text/html": [
       "<div>\n",
       "<style scoped>\n",
       "    .dataframe tbody tr th:only-of-type {\n",
       "        vertical-align: middle;\n",
       "    }\n",
       "\n",
       "    .dataframe tbody tr th {\n",
       "        vertical-align: top;\n",
       "    }\n",
       "\n",
       "    .dataframe thead th {\n",
       "        text-align: right;\n",
       "    }\n",
       "</style>\n",
       "<table border=\"1\" class=\"dataframe\">\n",
       "  <thead>\n",
       "    <tr style=\"text-align: right;\">\n",
       "      <th></th>\n",
       "      <th>count</th>\n",
       "      <th>unique</th>\n",
       "      <th>top</th>\n",
       "      <th>freq</th>\n",
       "    </tr>\n",
       "  </thead>\n",
       "  <tbody>\n",
       "    <tr>\n",
       "      <th>mfcc</th>\n",
       "      <td>317</td>\n",
       "      <td>317</td>\n",
       "      <td>[-488.23578, 103.44409, 9.910593, 33.63195, 6....</td>\n",
       "      <td>1</td>\n",
       "    </tr>\n",
       "    <tr>\n",
       "      <th>contrast</th>\n",
       "      <td>317</td>\n",
       "      <td>317</td>\n",
       "      <td>[23.98104457049824, 14.883558570433792, 19.139...</td>\n",
       "      <td>1</td>\n",
       "    </tr>\n",
       "    <tr>\n",
       "      <th>tonnetz</th>\n",
       "      <td>317</td>\n",
       "      <td>317</td>\n",
       "      <td>[-0.01461258018698804, 0.0065578272256597275, ...</td>\n",
       "      <td>1</td>\n",
       "    </tr>\n",
       "    <tr>\n",
       "      <th>chroma</th>\n",
       "      <td>317</td>\n",
       "      <td>317</td>\n",
       "      <td>[0.5946693, 0.6137347, 0.62787664, 0.614527, 0...</td>\n",
       "      <td>1</td>\n",
       "    </tr>\n",
       "    <tr>\n",
       "      <th>class</th>\n",
       "      <td>317</td>\n",
       "      <td>2</td>\n",
       "      <td>correct</td>\n",
       "      <td>219</td>\n",
       "    </tr>\n",
       "  </tbody>\n",
       "</table>\n",
       "</div>"
      ],
      "text/plain": [
       "         count unique                                                top freq\n",
       "mfcc       317    317  [-488.23578, 103.44409, 9.910593, 33.63195, 6....    1\n",
       "contrast   317    317  [23.98104457049824, 14.883558570433792, 19.139...    1\n",
       "tonnetz    317    317  [-0.01461258018698804, 0.0065578272256597275, ...    1\n",
       "chroma     317    317  [0.5946693, 0.6137347, 0.62787664, 0.614527, 0...    1\n",
       "class      317      2                                            correct  219"
      ]
     },
     "execution_count": 80,
     "metadata": {},
     "output_type": "execute_result"
    }
   ],
   "source": [
    "data = pd.DataFrame(extractedFeatures, columns=['mfcc','contrast','tonnetz','chroma','class'])\n",
    "print(data.shape)\n",
    "data.to_csv('password.csv', index=False)\n",
    "data.describe().T"
   ]
  },
  {
   "cell_type": "code",
   "execution_count": 81,
   "metadata": {},
   "outputs": [],
   "source": [
    "# data = pd.read_csv('password.csv')\n",
    "# print(data.shape)\n",
    "# data.describe().T"
   ]
  },
  {
   "cell_type": "code",
   "execution_count": 82,
   "metadata": {},
   "outputs": [
    {
     "data": {
      "text/plain": [
       "array(['correct', 'wrong'], dtype=object)"
      ]
     },
     "execution_count": 82,
     "metadata": {},
     "output_type": "execute_result"
    }
   ],
   "source": [
    "features = data.iloc[:, 0:-1]\n",
    "target = data['class']\n",
    "target.unique()\n",
    "# features.tail()"
   ]
  },
  {
   "cell_type": "code",
   "execution_count": 83,
   "metadata": {},
   "outputs": [],
   "source": [
    "features = features.values.tolist()\n",
    "for i in range(len(features)):\n",
    "    features[i] = np.concatenate((features[i][0],features[i][1],features[i][2],features[i][3]))"
   ]
  },
  {
   "cell_type": "code",
   "execution_count": 84,
   "metadata": {},
   "outputs": [],
   "source": [
    "encoder = LabelEncoder()\n",
    "target = encoder.fit_transform(target)"
   ]
  },
  {
   "cell_type": "code",
   "execution_count": 85,
   "metadata": {},
   "outputs": [],
   "source": [
    "xTrain, xTest, yTrain, yTest = train_test_split(features, target, test_size=0.25, random_state=105)"
   ]
  },
  {
   "cell_type": "markdown",
   "metadata": {},
   "source": [
    "### creating RandomForest model"
   ]
  },
  {
   "cell_type": "code",
   "execution_count": 86,
   "metadata": {},
   "outputs": [],
   "source": [
    "# classifier = RandomForestClassifier(n_estimators=100, criterion=\"entropy\")\n",
    "# classifier.fit(xTrain,yTrain)\n",
    "# # 97"
   ]
  },
  {
   "cell_type": "markdown",
   "metadata": {},
   "source": [
    "### creating SVM model"
   ]
  },
  {
   "cell_type": "code",
   "execution_count": 87,
   "metadata": {},
   "outputs": [],
   "source": [
    "# classifier = SVC(kernel='linear',decision_function_shape=\"ovo\" ,probability=True) \n",
    "# classifier.fit(xTrain,yTrain)\n",
    "# # 93"
   ]
  },
  {
   "cell_type": "markdown",
   "metadata": {},
   "source": [
    "### creating XGBoost model"
   ]
  },
  {
   "cell_type": "code",
   "execution_count": 88,
   "metadata": {},
   "outputs": [
    {
     "data": {
      "text/html": [
       "<style>#sk-container-id-3 {color: black;}#sk-container-id-3 pre{padding: 0;}#sk-container-id-3 div.sk-toggleable {background-color: white;}#sk-container-id-3 label.sk-toggleable__label {cursor: pointer;display: block;width: 100%;margin-bottom: 0;padding: 0.3em;box-sizing: border-box;text-align: center;}#sk-container-id-3 label.sk-toggleable__label-arrow:before {content: \"▸\";float: left;margin-right: 0.25em;color: #696969;}#sk-container-id-3 label.sk-toggleable__label-arrow:hover:before {color: black;}#sk-container-id-3 div.sk-estimator:hover label.sk-toggleable__label-arrow:before {color: black;}#sk-container-id-3 div.sk-toggleable__content {max-height: 0;max-width: 0;overflow: hidden;text-align: left;background-color: #f0f8ff;}#sk-container-id-3 div.sk-toggleable__content pre {margin: 0.2em;color: black;border-radius: 0.25em;background-color: #f0f8ff;}#sk-container-id-3 input.sk-toggleable__control:checked~div.sk-toggleable__content {max-height: 200px;max-width: 100%;overflow: auto;}#sk-container-id-3 input.sk-toggleable__control:checked~label.sk-toggleable__label-arrow:before {content: \"▾\";}#sk-container-id-3 div.sk-estimator input.sk-toggleable__control:checked~label.sk-toggleable__label {background-color: #d4ebff;}#sk-container-id-3 div.sk-label input.sk-toggleable__control:checked~label.sk-toggleable__label {background-color: #d4ebff;}#sk-container-id-3 input.sk-hidden--visually {border: 0;clip: rect(1px 1px 1px 1px);clip: rect(1px, 1px, 1px, 1px);height: 1px;margin: -1px;overflow: hidden;padding: 0;position: absolute;width: 1px;}#sk-container-id-3 div.sk-estimator {font-family: monospace;background-color: #f0f8ff;border: 1px dotted black;border-radius: 0.25em;box-sizing: border-box;margin-bottom: 0.5em;}#sk-container-id-3 div.sk-estimator:hover {background-color: #d4ebff;}#sk-container-id-3 div.sk-parallel-item::after {content: \"\";width: 100%;border-bottom: 1px solid gray;flex-grow: 1;}#sk-container-id-3 div.sk-label:hover label.sk-toggleable__label {background-color: #d4ebff;}#sk-container-id-3 div.sk-serial::before {content: \"\";position: absolute;border-left: 1px solid gray;box-sizing: border-box;top: 0;bottom: 0;left: 50%;z-index: 0;}#sk-container-id-3 div.sk-serial {display: flex;flex-direction: column;align-items: center;background-color: white;padding-right: 0.2em;padding-left: 0.2em;position: relative;}#sk-container-id-3 div.sk-item {position: relative;z-index: 1;}#sk-container-id-3 div.sk-parallel {display: flex;align-items: stretch;justify-content: center;background-color: white;position: relative;}#sk-container-id-3 div.sk-item::before, #sk-container-id-3 div.sk-parallel-item::before {content: \"\";position: absolute;border-left: 1px solid gray;box-sizing: border-box;top: 0;bottom: 0;left: 50%;z-index: -1;}#sk-container-id-3 div.sk-parallel-item {display: flex;flex-direction: column;z-index: 1;position: relative;background-color: white;}#sk-container-id-3 div.sk-parallel-item:first-child::after {align-self: flex-end;width: 50%;}#sk-container-id-3 div.sk-parallel-item:last-child::after {align-self: flex-start;width: 50%;}#sk-container-id-3 div.sk-parallel-item:only-child::after {width: 0;}#sk-container-id-3 div.sk-dashed-wrapped {border: 1px dashed gray;margin: 0 0.4em 0.5em 0.4em;box-sizing: border-box;padding-bottom: 0.4em;background-color: white;}#sk-container-id-3 div.sk-label label {font-family: monospace;font-weight: bold;display: inline-block;line-height: 1.2em;}#sk-container-id-3 div.sk-label-container {text-align: center;}#sk-container-id-3 div.sk-container {/* jupyter's `normalize.less` sets `[hidden] { display: none; }` but bootstrap.min.css set `[hidden] { display: none !important; }` so we also need the `!important` here to be able to override the default hidden behavior on the sphinx rendered scikit-learn.org. See: https://github.com/scikit-learn/scikit-learn/issues/21755 */display: inline-block !important;position: relative;}#sk-container-id-3 div.sk-text-repr-fallback {display: none;}</style><div id=\"sk-container-id-3\" class=\"sk-top-container\"><div class=\"sk-text-repr-fallback\"><pre>XGBClassifier(base_score=None, booster=None, callbacks=None,\n",
       "              colsample_bylevel=None, colsample_bynode=None,\n",
       "              colsample_bytree=None, device=None, early_stopping_rounds=None,\n",
       "              enable_categorical=False, eval_metric=&#x27;mlogloss&#x27;,\n",
       "              feature_types=None, gamma=None, grow_policy=None,\n",
       "              importance_type=None, interaction_constraints=None,\n",
       "              learning_rate=None, max_bin=None, max_cat_threshold=None,\n",
       "              max_cat_to_onehot=None, max_delta_step=None, max_depth=None,\n",
       "              max_leaves=None, min_child_weight=None, missing=nan,\n",
       "              monotone_constraints=None, multi_strategy=None, n_estimators=None,\n",
       "              n_jobs=None, num_class=2, num_parallel_tree=None, ...)</pre><b>In a Jupyter environment, please rerun this cell to show the HTML representation or trust the notebook. <br />On GitHub, the HTML representation is unable to render, please try loading this page with nbviewer.org.</b></div><div class=\"sk-container\" hidden><div class=\"sk-item\"><div class=\"sk-estimator sk-toggleable\"><input class=\"sk-toggleable__control sk-hidden--visually\" id=\"sk-estimator-id-3\" type=\"checkbox\" checked><label for=\"sk-estimator-id-3\" class=\"sk-toggleable__label sk-toggleable__label-arrow\">XGBClassifier</label><div class=\"sk-toggleable__content\"><pre>XGBClassifier(base_score=None, booster=None, callbacks=None,\n",
       "              colsample_bylevel=None, colsample_bynode=None,\n",
       "              colsample_bytree=None, device=None, early_stopping_rounds=None,\n",
       "              enable_categorical=False, eval_metric=&#x27;mlogloss&#x27;,\n",
       "              feature_types=None, gamma=None, grow_policy=None,\n",
       "              importance_type=None, interaction_constraints=None,\n",
       "              learning_rate=None, max_bin=None, max_cat_threshold=None,\n",
       "              max_cat_to_onehot=None, max_delta_step=None, max_depth=None,\n",
       "              max_leaves=None, min_child_weight=None, missing=nan,\n",
       "              monotone_constraints=None, multi_strategy=None, n_estimators=None,\n",
       "              n_jobs=None, num_class=2, num_parallel_tree=None, ...)</pre></div></div></div></div></div>"
      ],
      "text/plain": [
       "XGBClassifier(base_score=None, booster=None, callbacks=None,\n",
       "              colsample_bylevel=None, colsample_bynode=None,\n",
       "              colsample_bytree=None, device=None, early_stopping_rounds=None,\n",
       "              enable_categorical=False, eval_metric='mlogloss',\n",
       "              feature_types=None, gamma=None, grow_policy=None,\n",
       "              importance_type=None, interaction_constraints=None,\n",
       "              learning_rate=None, max_bin=None, max_cat_threshold=None,\n",
       "              max_cat_to_onehot=None, max_delta_step=None, max_depth=None,\n",
       "              max_leaves=None, min_child_weight=None, missing=nan,\n",
       "              monotone_constraints=None, multi_strategy=None, n_estimators=None,\n",
       "              n_jobs=None, num_class=2, num_parallel_tree=None, ...)"
      ]
     },
     "execution_count": 88,
     "metadata": {},
     "output_type": "execute_result"
    }
   ],
   "source": [
    "classifier = XGBClassifier(objective='multi:softmax', num_class=2, eval_metric='mlogloss')\n",
    "classifier.fit(xTrain, yTrain)\n",
    "# 97"
   ]
  },
  {
   "cell_type": "code",
   "execution_count": 89,
   "metadata": {},
   "outputs": [],
   "source": [
    "preds = classifier.predict(xTest)"
   ]
  },
  {
   "cell_type": "code",
   "execution_count": 90,
   "metadata": {},
   "outputs": [
    {
     "name": "stdout",
     "output_type": "stream",
     "text": [
      "              precision    recall  f1-score   support\n",
      "\n",
      "           0       0.98      0.91      0.95        57\n",
      "           1       0.81      0.96      0.88        23\n",
      "\n",
      "    accuracy                           0.93        80\n",
      "   macro avg       0.90      0.93      0.91        80\n",
      "weighted avg       0.93      0.93      0.93        80\n",
      "\n"
     ]
    }
   ],
   "source": [
    "print(classification_report(yTest, preds))"
   ]
  },
  {
   "cell_type": "code",
   "execution_count": 91,
   "metadata": {},
   "outputs": [],
   "source": [
    "def prediction(pred):\n",
    "    if pred == 0:\n",
    "        print(\"Correct!\")\n",
    "    elif pred == 1:\n",
    "        print(\"Wrong password\")"
   ]
  },
  {
   "cell_type": "code",
   "execution_count": 92,
   "metadata": {},
   "outputs": [
    {
     "name": "stdout",
     "output_type": "stream",
     "text": [
      "Correct!\n",
      "[[0.97554237 0.02445763]]\n"
     ]
    }
   ],
   "source": [
    "testFeatures = features_extractor(\"C:/Users/omara/OneDrive/Desktop/Voice Signal Authentication/ML/new audios/open/omar/omar_open_middle_door_1.wav\") # open middle door\n",
    "pred = classifier.predict(testFeatures)\n",
    "prediction(pred)\n",
    "print(classifier.predict_proba(testFeatures))"
   ]
  },
  {
   "cell_type": "code",
   "execution_count": 93,
   "metadata": {},
   "outputs": [
    {
     "name": "stdout",
     "output_type": "stream",
     "text": [
      "Correct!\n",
      "[[0.9969002  0.00309986]]\n"
     ]
    }
   ],
   "source": [
    "testFeatures = features_extractor(\"C:/Users/omara/OneDrive/Desktop/Voice Signal Authentication/ML/new audios/unlock/mohannad/Recording (57).wav\") # unlock the gate\n",
    "pred = classifier.predict(testFeatures)\n",
    "prediction(pred)\n",
    "print(classifier.predict_proba(testFeatures))"
   ]
  },
  {
   "cell_type": "code",
   "execution_count": 94,
   "metadata": {},
   "outputs": [
    {
     "name": "stdout",
     "output_type": "stream",
     "text": [
      "Correct!\n",
      "[[0.9989077  0.00109237]]\n"
     ]
    }
   ],
   "source": [
    "testFeatures = features_extractor(\"C:/Users/omara/OneDrive/Desktop/Voice Signal Authentication/ML/new audios/grant/hazem/Recording (11).wav\") # grant me access\n",
    "pred = classifier.predict(testFeatures)\n",
    "prediction(pred)\n",
    "print(classifier.predict_proba(testFeatures))"
   ]
  },
  {
   "cell_type": "code",
   "execution_count": 95,
   "metadata": {},
   "outputs": [
    {
     "name": "stdout",
     "output_type": "stream",
     "text": [
      "Wrong password\n",
      "[[0.0112247 0.9887754]]\n",
      "Wrong password\n",
      "[[0.00379526 0.9962048 ]]\n",
      "Wrong password\n",
      "[[0.00987206 0.99012786]]\n",
      "Wrong password\n",
      "[[0.00982798 0.9901721 ]]\n",
      "Wrong password\n",
      "[[0.02686773 0.9731322 ]]\n",
      "Wrong password\n",
      "[[0.00919249 0.9908075 ]]\n",
      "Wrong password\n",
      "[[0.01172604 0.988274  ]]\n",
      "Wrong password\n",
      "[[0.0139264 0.9860736]]\n",
      "Wrong password\n",
      "[[0.02210729 0.9778927 ]]\n",
      "Wrong password\n",
      "[[0.01334377 0.9866562 ]]\n"
     ]
    }
   ],
   "source": [
    "for file in os.listdir(\"C:/Users/omara/OneDrive/Desktop/Voice Signal Authentication/ML/new audios/other sentences/hazem\")[0:10]:\n",
    "  testFeatures = features_extractor(f\"C:/Users/omara/OneDrive/Desktop/Voice Signal Authentication/ML/new audios/other sentences/hazem/{file}\") \n",
    "  pred = classifier.predict(testFeatures)\n",
    "  prediction(pred)\n",
    "  print(classifier.predict_proba(testFeatures))"
   ]
  },
  {
   "cell_type": "code",
   "execution_count": 96,
   "metadata": {},
   "outputs": [
    {
     "name": "stdout",
     "output_type": "stream",
     "text": [
      "Correct!\n",
      "[[9.9906534e-01 9.3468511e-04]]\n",
      "Correct!\n",
      "[[0.99445796 0.005542  ]]\n",
      "Correct!\n",
      "[[0.9981179  0.00188205]]\n",
      "Correct!\n",
      "[[0.99079657 0.00920345]]\n",
      "Correct!\n",
      "[[0.86801803 0.131982  ]]\n"
     ]
    }
   ],
   "source": [
    "for file in os.listdir(\"C:/Users/omara/OneDrive/Desktop/Voice Signal Authentication/ML/new audios/open/hazem\")[0:5]:\n",
    "  testFeatures = features_extractor(f\"C:/Users/omara/OneDrive/Desktop/Voice Signal Authentication/ML/new audios/open/hazem/{file}\") \n",
    "  pred = classifier.predict(testFeatures)\n",
    "  prediction(pred)\n",
    "  print(classifier.predict_proba(testFeatures))"
   ]
  },
  {
   "cell_type": "code",
   "execution_count": 97,
   "metadata": {},
   "outputs": [],
   "source": [
    "# for file in os.listdir(\"C:/Users/omara/OneDrive/Desktop/Voice Signal Authentication/ML/new audios/other people\")[0:5]:\n",
    "#   testFeatures = features_extractor(f\"C:/Users/omara/OneDrive/Desktop/Voice Signal Authentication/ML/new audios/other people/{file}\") \n",
    "#   pred = classifier.predict(testFeatures)\n",
    "#   prediction(pred)\n",
    "#   print(classifier.predict_proba(testFeatures))"
   ]
  },
  {
   "cell_type": "code",
   "execution_count": 98,
   "metadata": {},
   "outputs": [
    {
     "name": "stdout",
     "output_type": "stream",
     "text": [
      "Wrong password\n",
      "[[0.01873421 0.98126584]]\n",
      "Wrong password\n",
      "[[0.00438406 0.99561596]]\n",
      "Wrong password\n",
      "[[0.00279413 0.9972058 ]]\n",
      "Wrong password\n",
      "[[7.1744627e-04 9.9928254e-01]]\n",
      "Wrong password\n",
      "[[4.334794e-04 9.995665e-01]]\n"
     ]
    }
   ],
   "source": [
    "for file in os.listdir(\"C:/Users/omara/OneDrive/Desktop/Voice Signal Authentication/ML/new audios/tamer\")[0:5]:\n",
    "  testFeatures = features_extractor(f\"C:/Users/omara/OneDrive/Desktop/Voice Signal Authentication/ML/new audios/tamer/{file}\") \n",
    "  pred = classifier.predict(testFeatures)\n",
    "  prediction(pred)\n",
    "  print(classifier.predict_proba(testFeatures))"
   ]
  },
  {
   "cell_type": "code",
   "execution_count": 99,
   "metadata": {},
   "outputs": [],
   "source": [
    "pickle_out = open(\"password.pkl\", \"wb\")\n",
    "pickle.dump(classifier, pickle_out)\n",
    "pickle_out.close()"
   ]
  },
  {
   "cell_type": "code",
   "execution_count": null,
   "metadata": {},
   "outputs": [],
   "source": []
  }
 ],
 "metadata": {
  "kernelspec": {
   "display_name": "Python 3",
   "language": "python",
   "name": "python3"
  },
  "language_info": {
   "codemirror_mode": {
    "name": "ipython",
    "version": 3
   },
   "file_extension": ".py",
   "mimetype": "text/x-python",
   "name": "python",
   "nbconvert_exporter": "python",
   "pygments_lexer": "ipython3",
   "version": "3.9.13"
  },
  "orig_nbformat": 4,
  "vscode": {
   "interpreter": {
    "hash": "b35c0e0c22f4e69d6176338ddf1640bc0c3891cabe89a14316f917f290cba1ea"
   }
  }
 },
 "nbformat": 4,
 "nbformat_minor": 2
}
